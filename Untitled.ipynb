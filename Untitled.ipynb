{
 "cells": [
  {
   "cell_type": "code",
   "execution_count": 1,
   "id": "1ff0893e",
   "metadata": {},
   "outputs": [],
   "source": [
    "def insert(head, data):\n",
    "    new_node = {'data': data, 'next':head}\n",
    "    return new_node"
   ]
  },
  {
   "cell_type": "code",
   "execution_count": 24,
   "id": "2d6ce260",
   "metadata": {},
   "outputs": [
    {
     "data": {
      "text/plain": [
       "{'data': 3, 'next': {'data': 7, 'next': {'data': 11, 'next': None}}}"
      ]
     },
     "execution_count": 24,
     "metadata": {},
     "output_type": "execute_result"
    }
   ],
   "source": [
    "head = None\n",
    "head= insert(head,11)\n",
    "head= insert(head,7)\n",
    "head= insert(head,3)\n",
    "head"
   ]
  },
  {
   "cell_type": "code",
   "execution_count": 6,
   "id": "3774fbea",
   "metadata": {},
   "outputs": [
    {
     "name": "stdout",
     "output_type": "stream",
     "text": [
      "3\n",
      "7\n",
      "11\n"
     ]
    }
   ],
   "source": [
    "while head:\n",
    "    print(head['data'])\n",
    "    head = head['next']"
   ]
  },
  {
   "cell_type": "code",
   "execution_count": 8,
   "id": "59cc3566",
   "metadata": {},
   "outputs": [],
   "source": [
    "def create_transaction(head,sender,reciever,amount):\n",
    "    new_node = {'sender': sender, 'reciever': reciever, 'amount': amount, 'next':head}\n",
    "    return new_node"
   ]
  },
  {
   "cell_type": "code",
   "execution_count": 28,
   "id": "aabfdc17",
   "metadata": {},
   "outputs": [
    {
     "data": {
      "text/plain": [
       "{'sender': 'A',\n",
       " 'reciever': 'D',\n",
       " 'amount': 5,\n",
       " 'next': {'sender': 'D',\n",
       "  'reciever': 'A',\n",
       "  'amount': 10,\n",
       "  'next': {'sender': 'B',\n",
       "   'reciever': 'C',\n",
       "   'amount': 5,\n",
       "   'next': {'sender': 'B', 'reciever': 'A', 'amount': 1, 'next': None}}}}"
      ]
     },
     "execution_count": 28,
     "metadata": {},
     "output_type": "execute_result"
    }
   ],
   "source": [
    "head = None\n",
    "head = create_transaction(head,'B','A',1)\n",
    "head = create_transaction(head,'B','C',5)\n",
    "head = create_transaction(head,'D','A',10)\n",
    "head = create_transaction(head,'A','D',5)\n",
    "head"
   ]
  },
  {
   "cell_type": "code",
   "execution_count": 29,
   "id": "58a986ed",
   "metadata": {},
   "outputs": [
    {
     "data": {
      "text/plain": [
       "{'A': 6, 'D': -5, 'B': -6, 'C': 5}"
      ]
     },
     "execution_count": 29,
     "metadata": {},
     "output_type": "execute_result"
    }
   ],
   "source": [
    "def calculate_balances(head):\n",
    "    balances={}\n",
    "    \n",
    "    while head:\n",
    "        \n",
    "        sender = head['sender']\n",
    "        receiver = head['reciever']\n",
    "        amount = head['amount']\n",
    "        \n",
    "        if sender not in balances:\n",
    "            balances[sender] = 0\n",
    "            \n",
    "        if receiver not in balances:\n",
    "            balances[receiver] = 0\n",
    "            \n",
    "        balances[sender] -= amount\n",
    "        balances[receiver] +=amount\n",
    "        \n",
    "        head= head['next']\n",
    "        \n",
    "    return balances\n",
    "calculate_balances(head)"
   ]
  },
  {
   "cell_type": "code",
   "execution_count": 22,
   "id": "1c83783c",
   "metadata": {},
   "outputs": [
    {
     "name": "stdout",
     "output_type": "stream",
     "text": [
      "5\n"
     ]
    }
   ],
   "source": [
    "a = 0\n",
    "while head:\n",
    "    sender = head['sender']\n",
    "    if sender =='A':\n",
    "        a=a+head['amount']\n",
    "    head=head['next']\n",
    "print(a)"
   ]
  },
  {
   "cell_type": "code",
   "execution_count": null,
   "id": "acec658a",
   "metadata": {},
   "outputs": [],
   "source": [
    "block chain"
   ]
  }
 ],
 "metadata": {
  "kernelspec": {
   "display_name": "Python 3 (ipykernel)",
   "language": "python",
   "name": "python3"
  },
  "language_info": {
   "codemirror_mode": {
    "name": "ipython",
    "version": 3
   },
   "file_extension": ".py",
   "mimetype": "text/x-python",
   "name": "python",
   "nbconvert_exporter": "python",
   "pygments_lexer": "ipython3",
   "version": "3.11.5"
  }
 },
 "nbformat": 4,
 "nbformat_minor": 5
}
